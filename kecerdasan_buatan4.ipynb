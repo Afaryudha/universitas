{
  "nbformat": 4,
  "nbformat_minor": 0,
  "metadata": {
    "colab": {
      "provenance": [],
      "include_colab_link": true
    },
    "kernelspec": {
      "name": "python3",
      "display_name": "Python 3"
    },
    "language_info": {
      "name": "python"
    }
  },
  "cells": [
    {
      "cell_type": "markdown",
      "metadata": {
        "id": "view-in-github",
        "colab_type": "text"
      },
      "source": [
        "<a href=\"https://colab.research.google.com/github/Afaryudha/universitas/blob/main/kecerdasan_buatan4.ipynb\" target=\"_parent\"><img src=\"https://colab.research.google.com/assets/colab-badge.svg\" alt=\"Open In Colab\"/></a>"
      ]
    },
    {
      "cell_type": "code",
      "execution_count": null,
      "metadata": {
        "id": "q_r-8Pl1AOS3"
      },
      "outputs": [],
      "source": [
        "import pandas as pd"
      ]
    },
    {
      "cell_type": "code",
      "source": [
        "from google.colab import drive\n",
        "drive.mount('/content/drive')"
      ],
      "metadata": {
        "colab": {
          "base_uri": "https://localhost:8080/"
        },
        "id": "I-oMH89aAWrX",
        "outputId": "5dfec93b-7d0f-432e-ab7d-a1464430f8f2"
      },
      "execution_count": null,
      "outputs": [
        {
          "output_type": "stream",
          "name": "stdout",
          "text": [
            "Drive already mounted at /content/drive; to attempt to forcibly remount, call drive.mount(\"/content/drive\", force_remount=True).\n"
          ]
        }
      ]
    },
    {
      "cell_type": "code",
      "source": [
        "import os\n",
        "\n",
        "data_folder = '/content/drive/MyDrive/NLP-with-Python-master/NLP-with-Python-master/data'\n",
        "print(os.listdir(data_folder))\n"
      ],
      "metadata": {
        "colab": {
          "base_uri": "https://localhost:8080/"
        },
        "id": "VOc06uuXDwrj",
        "outputId": "19b5fa5b-6d4a-4ba0-ab4f-e2004b99185c"
      },
      "execution_count": null,
      "outputs": [
        {
          "output_type": "stream",
          "name": "stdout",
          "text": [
            "['Seattle_Hotels_Duplicates.csv', 'quora_sample.csv', 'comment_backToWork.csv', 'small_vocab_en', 'Seattle_Hotels_dirty.csv', 'title_conference.csv', 'corona_fake.csv', 'ner_dataset.csv', 'small_vocab_fr', 'comment_on_plan.csv']\n"
          ]
        }
      ]
    },
    {
      "cell_type": "code",
      "source": [
        "import os\n",
        "\n",
        "folder_path = ('/content/drive/MyDrive/NLP-with-Python-master/NLP-with-Python-master/data')\n",
        "print(os.listdir(folder_path))\n"
      ],
      "metadata": {
        "colab": {
          "base_uri": "https://localhost:8080/"
        },
        "id": "oyq4FZgyE_0R",
        "outputId": "08c8bd8e-0899-4b21-cf45-e70be244ddba"
      },
      "execution_count": null,
      "outputs": [
        {
          "output_type": "stream",
          "name": "stdout",
          "text": [
            "['Seattle_Hotels_Duplicates.csv', 'quora_sample.csv', 'comment_backToWork.csv', 'small_vocab_en', 'Seattle_Hotels_dirty.csv', 'title_conference.csv', 'corona_fake.csv', 'ner_dataset.csv', 'small_vocab_fr', 'comment_on_plan.csv']\n"
          ]
        }
      ]
    },
    {
      "cell_type": "code",
      "source": [
        "import pandas as pd\n",
        "\n",
        "df = pd.read_csv(f'{folder_path}/corona_fake.csv', encoding='ISO-8859-1')\n",
        "print(df.head())\n"
      ],
      "metadata": {
        "colab": {
          "base_uri": "https://localhost:8080/"
        },
        "id": "_vqkRXc7Fbzj",
        "outputId": "12292a65-e8b6-426f-80bc-f36bd0081958"
      },
      "execution_count": null,
      "outputs": [
        {
          "output_type": "stream",
          "name": "stdout",
          "text": [
            "                                            ï»¿title  \\\n",
            "0  Due to the recent outbreak for the Coronavirus...   \n",
            "1                                                NaN   \n",
            "2                                                NaN   \n",
            "3                                                NaN   \n",
            "4                                                NaN   \n",
            "\n",
            "                                                text  \\\n",
            "0  You just need to add water, and the drugs and ...   \n",
            "1  Hydroxychloroquine has been shown to have a 10...   \n",
            "2  Fact: Hydroxychloroquine has been shown to hav...   \n",
            "3  The Corona virus is a man made virus created i...   \n",
            "4  Doesnât @BillGates finance research at the W...   \n",
            "\n",
            "                      source label  \n",
            "0  coronavirusmedicalkit.com  Fake  \n",
            "1               RudyGiuliani  Fake  \n",
            "2                CharlieKirk  Fake  \n",
            "3    JoanneWrightForCongress  Fake  \n",
            "4    JoanneWrightForCongress  Fake  \n"
          ]
        }
      ]
    },
    {
      "cell_type": "code",
      "source": [
        "df.isnull().sum()"
      ],
      "metadata": {
        "colab": {
          "base_uri": "https://localhost:8080/",
          "height": 209
        },
        "id": "DscrCY2TIVfX",
        "outputId": "e7c748ec-518e-4548-f4e2-eab1f8894aec"
      },
      "execution_count": null,
      "outputs": [
        {
          "output_type": "execute_result",
          "data": {
            "text/plain": [
              "ï»¿title    82\n",
              "text        10\n",
              "source      20\n",
              "label        5\n",
              "dtype: int64"
            ],
            "text/html": [
              "<div>\n",
              "<style scoped>\n",
              "    .dataframe tbody tr th:only-of-type {\n",
              "        vertical-align: middle;\n",
              "    }\n",
              "\n",
              "    .dataframe tbody tr th {\n",
              "        vertical-align: top;\n",
              "    }\n",
              "\n",
              "    .dataframe thead th {\n",
              "        text-align: right;\n",
              "    }\n",
              "</style>\n",
              "<table border=\"1\" class=\"dataframe\">\n",
              "  <thead>\n",
              "    <tr style=\"text-align: right;\">\n",
              "      <th></th>\n",
              "      <th>0</th>\n",
              "    </tr>\n",
              "  </thead>\n",
              "  <tbody>\n",
              "    <tr>\n",
              "      <th>ï»¿title</th>\n",
              "      <td>82</td>\n",
              "    </tr>\n",
              "    <tr>\n",
              "      <th>text</th>\n",
              "      <td>10</td>\n",
              "    </tr>\n",
              "    <tr>\n",
              "      <th>source</th>\n",
              "      <td>20</td>\n",
              "    </tr>\n",
              "    <tr>\n",
              "      <th>label</th>\n",
              "      <td>5</td>\n",
              "    </tr>\n",
              "  </tbody>\n",
              "</table>\n",
              "</div><br><label><b>dtype:</b> int64</label>"
            ]
          },
          "metadata": {},
          "execution_count": 614
        }
      ]
    },
    {
      "cell_type": "code",
      "source": [
        "df.shape"
      ],
      "metadata": {
        "colab": {
          "base_uri": "https://localhost:8080/"
        },
        "id": "cfaGiZjgIdCj",
        "outputId": "fc576797-4c04-4992-d236-4bdd378fa4a8"
      },
      "execution_count": null,
      "outputs": [
        {
          "output_type": "execute_result",
          "data": {
            "text/plain": [
              "(1164, 4)"
            ]
          },
          "metadata": {},
          "execution_count": 615
        }
      ]
    },
    {
      "cell_type": "code",
      "source": [
        "df.dropna(axis=0, inplace=True)\n",
        "df.shape"
      ],
      "metadata": {
        "colab": {
          "base_uri": "https://localhost:8080/"
        },
        "id": "9A9sVGpfIls-",
        "outputId": "296b8db1-65cd-48e3-aeb9-fe4fd3df167b"
      },
      "execution_count": null,
      "outputs": [
        {
          "output_type": "execute_result",
          "data": {
            "text/plain": [
              "(1059, 4)"
            ]
          },
          "metadata": {},
          "execution_count": 616
        }
      ]
    },
    {
      "cell_type": "code",
      "source": [
        "df.isnull().sum()"
      ],
      "metadata": {
        "colab": {
          "base_uri": "https://localhost:8080/",
          "height": 209
        },
        "id": "vaAUXUpTI4-V",
        "outputId": "011da100-63d1-491c-9663-91d9dbd667ae"
      },
      "execution_count": null,
      "outputs": [
        {
          "output_type": "execute_result",
          "data": {
            "text/plain": [
              "ï»¿title    0\n",
              "text        0\n",
              "source      0\n",
              "label       0\n",
              "dtype: int64"
            ],
            "text/html": [
              "<div>\n",
              "<style scoped>\n",
              "    .dataframe tbody tr th:only-of-type {\n",
              "        vertical-align: middle;\n",
              "    }\n",
              "\n",
              "    .dataframe tbody tr th {\n",
              "        vertical-align: top;\n",
              "    }\n",
              "\n",
              "    .dataframe thead th {\n",
              "        text-align: right;\n",
              "    }\n",
              "</style>\n",
              "<table border=\"1\" class=\"dataframe\">\n",
              "  <thead>\n",
              "    <tr style=\"text-align: right;\">\n",
              "      <th></th>\n",
              "      <th>0</th>\n",
              "    </tr>\n",
              "  </thead>\n",
              "  <tbody>\n",
              "    <tr>\n",
              "      <th>ï»¿title</th>\n",
              "      <td>0</td>\n",
              "    </tr>\n",
              "    <tr>\n",
              "      <th>text</th>\n",
              "      <td>0</td>\n",
              "    </tr>\n",
              "    <tr>\n",
              "      <th>source</th>\n",
              "      <td>0</td>\n",
              "    </tr>\n",
              "    <tr>\n",
              "      <th>label</th>\n",
              "      <td>0</td>\n",
              "    </tr>\n",
              "  </tbody>\n",
              "</table>\n",
              "</div><br><label><b>dtype:</b> int64</label>"
            ]
          },
          "metadata": {},
          "execution_count": 617
        }
      ]
    },
    {
      "cell_type": "code",
      "source": [
        "import pandas as pd\n",
        "import matplotlib.pyplot as plt\n",
        "\n",
        "# Contoh data\n",
        "data = {\n",
        "    'id': [1, 2, 3, 4, 5],\n",
        "    'title': ['a', 'b', 'a', 'c', 'b']\n",
        "}\n",
        "df = pd.DataFrame(data)\n",
        "\n",
        "# Tandai duplikat berdasarkan kolom 'title'\n",
        "df['is_duplicate'] = df.duplicated(subset=['title'])\n",
        "\n",
        "# Plot jumlah berdasarkan apakah duplikat atau tidak\n",
        "df.groupby('is_duplicate')['id'].count().plot.bar()\n",
        "plt.show()\n"
      ],
      "metadata": {
        "colab": {
          "base_uri": "https://localhost:8080/",
          "height": 470
        },
        "id": "qkIf-yXXJApt",
        "outputId": "2e02392e-8c9e-405a-fd93-51451bc7f1dd"
      },
      "execution_count": null,
      "outputs": [
        {
          "output_type": "display_data",
          "data": {
            "text/plain": [
              "<Figure size 640x480 with 1 Axes>"
            ],
            "image/png": "[encoded data removed]"
          },
          "metadata": {}
        }
      ]
    },
    {
      "cell_type": "code",
      "source": [
        "df.drop(['id', 'qid1', 'qid2'], axis=1, inplace=True, errors='ignore'); df.shape\n"
      ],
      "metadata": {
        "id": "-qIrwrrCK8nQ",
        "colab": {
          "base_uri": "https://localhost:8080/"
        },
        "outputId": "129a135f-5d89-42f1-a7bf-e7851a2b0039"
      },
      "execution_count": null,
      "outputs": [
        {
          "output_type": "execute_result",
          "data": {
            "text/plain": [
              "(5, 2)"
            ]
          },
          "metadata": {},
          "execution_count": 619
        }
      ]
    },
    {
      "cell_type": "code",
      "source": [
        "print(df.columns)\n",
        "df.columns = df.columns.str.strip()\n"
      ],
      "metadata": {
        "colab": {
          "base_uri": "https://localhost:8080/"
        },
        "id": "5FubmvSmly8v",
        "outputId": "a867abb4-b983-4fcc-c5ab-e42914cb200c"
      },
      "execution_count": null,
      "outputs": [
        {
          "output_type": "stream",
          "name": "stdout",
          "text": [
            "Index(['title', 'is_duplicate'], dtype='object')\n"
          ]
        }
      ]
    },
    {
      "cell_type": "code",
      "source": [
        "for _, row in df.iterrows():\n",
        "    print(\"Title:\", row['title'])\n",
        "    print(\"Is Duplicate:\", row['is_duplicate'])\n",
        "    print()\n"
      ],
      "metadata": {
        "colab": {
          "base_uri": "https://localhost:8080/"
        },
        "id": "IXqG7jN4oanN",
        "outputId": "ecdc92dc-5269-4b50-d8e0-cb420c11d1ab"
      },
      "execution_count": null,
      "outputs": [
        {
          "output_type": "stream",
          "name": "stdout",
          "text": [
            "Title: a\n",
            "Is Duplicate: False\n",
            "\n",
            "Title: b\n",
            "Is Duplicate: False\n",
            "\n",
            "Title: a\n",
            "Is Duplicate: True\n",
            "\n",
            "Title: c\n",
            "Is Duplicate: False\n",
            "\n",
            "Title: b\n",
            "Is Duplicate: True\n",
            "\n"
          ]
        }
      ]
    },
    {
      "cell_type": "code",
      "source": [
        "SPECIAL_TOKENS = {\n",
        "    'quoted': 'quoted_item',\n",
        "    'non-ascii': 'non_ascii_word',\n",
        "    'undefined': 'something'\n",
        "}\n",
        "\n",
        "def clean(text, stem_words=True):\n",
        "    import re\n",
        "    from string import punctuation\n",
        "    from nltk.stem import SnowballStemmer\n",
        "    from nltk.corpus import stopwords\n",
        "\n",
        "    def pad_str(s):\n",
        "        return ' '+s+' '\n",
        "\n",
        "    if pd.isnull(text):\n",
        "        return ''\n",
        "\n",
        "#    stops = set(stopwords.words(\"english\"))\n",
        "    # Clean the text, with the option to stem words.\n",
        "\n",
        "    # Empty question\n",
        "\n",
        "    if type(text) != str or text=='':\n",
        "        return ''\n",
        "\n",
        "    # Clean the text\n",
        "    text = re.sub(\"\\'s\", \" \", text) # we have cases like \"Sam is\" or \"Sam's\" (i.e. his) these two cases aren't separable, I choose to compromise are kill \"'s\" directly\n",
        "    text = re.sub(\" whats \", \" what is \", text, flags=re.IGNORECASE)\n",
        "    text = re.sub(\"\\'ve\", \" have \", text)\n",
        "    text = re.sub(\"can't\", \"can not\", text)\n",
        "    text = re.sub(\"n't\", \" not \", text)\n",
        "    text = re.sub(\"i'm\", \"i am\", text, flags=re.IGNORECASE)\n",
        "    text = re.sub(\"\\'re\", \" are \", text)\n",
        "    text = re.sub(\"\\'d\", \" would \", text)\n",
        "    text = re.sub(\"\\'ll\", \" will \", text)\n",
        "    text = re.sub(\"e\\.g\\.\", \" eg \", text, flags=re.IGNORECASE)\n",
        "    text = re.sub(\"b\\.g\\.\", \" bg \", text, flags=re.IGNORECASE)\n",
        "    text = re.sub(\"(\\d+)(kK)\", \" \\g<1>000 \", text)\n",
        "    text = re.sub(\"e-mail\", \" email \", text, flags=re.IGNORECASE)\n",
        "    text = re.sub(\"(the[\\s]+|The[\\s]+)?U\\.S\\.A\\.\", \" America \", text, flags=re.IGNORECASE)\n",
        "    text = re.sub(\"(the[\\s]+|The[\\s]+)?United State(s)?\", \" America \", text, flags=re.IGNORECASE)\n",
        "    text = re.sub(\"\\(s\\)\", \" \", text, flags=re.IGNORECASE)\n",
        "    text = re.sub(\"[c-fC-F]\\:\\/\", \" disk \", text)\n",
        "\n",
        "    # remove comma between numbers, i.e. 15,000 -> 15000\n",
        "\n",
        "    text = re.sub('(?<=[0-9])\\,(?=[0-9])', \"\", text)\n",
        "\n",
        "#     # all numbers should separate from words, this is too aggressive\n",
        "\n",
        "#     def pad_number(pattern):\n",
        "#         matched_string = pattern.group(0)\n",
        "#         return pad_str(matched_string)\n",
        "#     text = re.sub('[0-9]+', pad_number, text)\n",
        "\n",
        "    # add padding to punctuations and special chars, we still need them later\n",
        "\n",
        "    text = re.sub('\\$', \" dollar \", text)\n",
        "    text = re.sub('\\%', \" percent \", text)\n",
        "    text = re.sub('\\&', \" and \", text)\n",
        "\n",
        "#    def pad_pattern(pattern):\n",
        "#        matched_string = pattern.group(0)\n",
        "#       return pad_str(matched_string)\n",
        "#    text = re.sub('[\\!\\?\\@\\^\\+\\*\\/\\,\\~\\|\\`\\=\\:\\;\\.\\#\\\\\\]', pad_pattern, text)\n",
        "\n",
        "    text = re.sub('[^\\x00-\\x7F]+', pad_str(SPECIAL_TOKENS['non-ascii']), text) # replace non-ascii word with special word\n",
        "\n",
        "    # indian dollar\n",
        "\n",
        "    text = re.sub(\"(?<=[0-9])rs \", \" rs \", text, flags=re.IGNORECASE)\n",
        "    text = re.sub(\" rs(?=[0-9])\", \" rs \", text, flags=re.IGNORECASE)\n",
        "\n",
        "    # clean text rules get from : https://www.kaggle.com/currie32/the-importance-of-cleaning-text\n",
        "    text = re.sub(r\" (the[\\s]+|The[\\s]+)?US(A)? \", \" America \", text)\n",
        "    text = re.sub(r\" UK \", \" England \", text, flags=re.IGNORECASE)\n",
        "    text = re.sub(r\" india \", \" India \", text)\n",
        "    text = re.sub(r\" switzerland \", \" Switzerland \", text)\n",
        "    text = re.sub(r\" china \", \" China \", text)\n",
        "    text = re.sub(r\" chinese \", \" Chinese \", text)\n",
        "    text = re.sub(r\" imrovement \", \" improvement \", text, flags=re.IGNORECASE)\n",
        "    text = re.sub(r\" intially \", \" initially \", text, flags=re.IGNORECASE)\n",
        "    text = re.sub(r\" quora \", \" Quora \", text, flags=re.IGNORECASE)\n",
        "    text = re.sub(r\" dms \", \" direct messages \", text, flags=re.IGNORECASE)\n",
        "    text = re.sub(r\" demonitization \", \" demonetization \", text, flags=re.IGNORECASE)\n",
        "    text = re.sub(r\" actived \", \" active \", text, flags=re.IGNORECASE)\n",
        "    text = re.sub(r\" kms \", \" kilometers \", text, flags=re.IGNORECASE)\n",
        "    text = re.sub(r\" cs \", \" computer science \", text, flags=re.IGNORECASE)\n",
        "    text = re.sub(r\" upvote\", \" up vote\", text, flags=re.IGNORECASE)\n",
        "    text = re.sub(r\" iPhone \", \" phone \", text, flags=re.IGNORECASE)\n",
        "    text = re.sub(r\" \\0rs \", \" rs \", text, flags=re.IGNORECASE)\n",
        "    text = re.sub(r\" calender \", \" calendar \", text, flags=re.IGNORECASE)\n",
        "    text = re.sub(r\" ios \", \" operating system \", text, flags=re.IGNORECASE)\n",
        "    text = re.sub(r\" gps \", \" GPS \", text, flags=re.IGNORECASE)\n",
        "    text = re.sub(r\" gst \", \" GST \", text, flags=re.IGNORECASE)\n",
        "    text = re.sub(r\" programing \", \" programming \", text, flags=re.IGNORECASE)\n",
        "    text = re.sub(r\" bestfriend \", \" best friend \", text, flags=re.IGNORECASE)\n",
        "    text = re.sub(r\" dna \", \" DNA \", text, flags=re.IGNORECASE)\n",
        "    text = re.sub(r\" III \", \" 3 \", text)\n",
        "    text = re.sub(r\" banglore \", \" Banglore \", text, flags=re.IGNORECASE)\n",
        "    text = re.sub(r\" J K \", \" JK \", text, flags=re.IGNORECASE)\n",
        "    text = re.sub(r\" J\\.K\\. \", \" JK \", text, flags=re.IGNORECASE)\n",
        "\n",
        "    # replace the float numbers with a random number, it will be parsed as number afterward, and also been replaced with word \"number\"\n",
        "\n",
        "    text = re.sub('[0-9]+\\.[0-9]+', \" 87 \", text)\n",
        "\n",
        "\n",
        "    # Remove punctuation from text\n",
        "    text = ''.join([c for c in text if c not in punctuation]).lower()\n",
        "       # Return a list of words\n",
        "    return text"
      ],
      "metadata": {
        "id": "xJ7SGpiCMaks"
      },
      "execution_count": null,
      "outputs": []
    },
    {
      "cell_type": "code",
      "source": [
        "['title', 'is_duplicate']\n",
        "df['title'] = df['title'].apply(clean)\n"
      ],
      "metadata": {
        "id": "x-ashEZ9M2lB"
      },
      "execution_count": null,
      "outputs": []
    },
    {
      "cell_type": "code",
      "source": [
        "a = 0\n",
        "for i in range(a, min(a + 10, len(df))):\n",
        "    print(df['title'].iloc[i])\n",
        "    print(df['is_duplicate'].iloc[i])\n",
        "    print()\n"
      ],
      "metadata": {
        "id": "A0YkyG17Ntnz",
        "colab": {
          "base_uri": "https://localhost:8080/"
        },
        "outputId": "0af15cbb-0d9e-4170-a124-4765420dab3c"
      },
      "execution_count": null,
      "outputs": [
        {
          "output_type": "stream",
          "name": "stdout",
          "text": [
            "a\n",
            "False\n",
            "\n",
            "b\n",
            "False\n",
            "\n",
            "a\n",
            "True\n",
            "\n",
            "c\n",
            "False\n",
            "\n",
            "b\n",
            "True\n",
            "\n"
          ]
        }
      ]
    },
    {
      "cell_type": "code",
      "source": [
        "X = df.loc[:, df.columns != 'is_duplicate']\n",
        "y = df.loc[:, df.columns == 'is_duplicate']"
      ],
      "metadata": {
        "id": "9KEhSXULN5kp"
      },
      "execution_count": null,
      "outputs": []
    },
    {
      "cell_type": "code",
      "source": [
        "from sklearn.model_selection import train_test_split\n",
        "\n",
        "X_train, X_test, y_train, y_test = train_test_split(X, y, test_size=0.3, random_state=0)"
      ],
      "metadata": {
        "id": "k0jKAFZSN-a8"
      },
      "execution_count": null,
      "outputs": []
    },
    {
      "cell_type": "code",
      "source": [
        "from sklearn.feature_extraction.text import CountVectorizer\n",
        "from sklearn.preprocessing import FunctionTransformer\n",
        "from sklearn.pipeline import FeatureUnion, Pipeline\n",
        "\n",
        "transformer = FeatureUnion([\n",
        "                ('question1_bow',\n",
        "                  Pipeline([('extract_field',\n",
        "                              FunctionTransformer(lambda x: x['question1'],\n",
        "                                                  validate=False)),\n",
        "                            ('bow',\n",
        "                              CountVectorizer())])),\n",
        "                ('question2_bow',\n",
        "                  Pipeline([('extract_field',\n",
        "                              FunctionTransformer(lambda x: x['question2'],\n",
        "                                                  validate=False)),\n",
        "                            ('bow',\n",
        "                              CountVectorizer())]))])"
      ],
      "metadata": {
        "id": "HZIY4_VLOHnH"
      },
      "execution_count": null,
      "outputs": []
    },
    {
      "cell_type": "code",
      "source": [
        "texts_train = ['b', 'c', 'b']\n",
        "\n",
        "from sklearn.feature_extraction.text import CountVectorizer\n",
        "\n",
        "transformer = CountVectorizer(token_pattern=r\"(?u)\\b\\w+\\b\")\n",
        "X_train_count = transformer.fit_transform(texts_train)\n",
        "\n",
        "print(X_train_count.shape)\n",
        "print(transformer.get_feature_names_out())\n"
      ],
      "metadata": {
        "id": "E6jLOptdVb-Y",
        "colab": {
          "base_uri": "https://localhost:8080/"
        },
        "outputId": "0a3704a0-e9e8-4db9-d381-8c5e83f5ae93"
      },
      "execution_count": null,
      "outputs": [
        {
          "output_type": "stream",
          "name": "stdout",
          "text": [
            "(3, 2)\n",
            "['b' 'c']\n"
          ]
        }
      ]
    },
    {
      "cell_type": "code",
      "source": [
        "from sklearn.ensemble import RandomForestClassifier\n",
        "from sklearn import metrics\n",
        "\n",
        "# Transform data test harus dari list teks, bukan dataframe langsung\n",
        "texts_test = X_test['title'].tolist()\n",
        "X_test_count = transformer.transform(texts_test)\n",
        "\n",
        "# Latih model dengan data train yang sudah transformasi\n",
        "rf = RandomForestClassifier()\n",
        "rf.fit(X_train_count, y_train.values.ravel())\n",
        "\n",
        "# Prediksi data test\n",
        "y_pred = rf.predict(X_test_count)\n",
        "\n",
        "# Evaluasi hasil prediksi\n",
        "print(metrics.classification_report(y_test, y_pred))\n"
      ],
      "metadata": {
        "id": "eMzO1Tc1Vht4",
        "colab": {
          "base_uri": "https://localhost:8080/"
        },
        "outputId": "c76a9631-eda9-40f6-f96d-06b078960fb3"
      },
      "execution_count": null,
      "outputs": [
        {
          "output_type": "stream",
          "name": "stdout",
          "text": [
            "              precision    recall  f1-score   support\n",
            "\n",
            "       False       0.50      1.00      0.67         1\n",
            "        True       0.00      0.00      0.00         1\n",
            "\n",
            "    accuracy                           0.50         2\n",
            "   macro avg       0.25      0.50      0.33         2\n",
            "weighted avg       0.25      0.50      0.33         2\n",
            "\n"
          ]
        },
        {
          "output_type": "stream",
          "name": "stderr",
          "text": [
            "/usr/local/lib/python3.11/dist-packages/sklearn/metrics/_classification.py:1565: UndefinedMetricWarning: Precision is ill-defined and being set to 0.0 in labels with no predicted samples. Use `zero_division` parameter to control this behavior.\n",
            "  _warn_prf(average, modifier, f\"{metric.capitalize()} is\", len(result))\n",
            "/usr/local/lib/python3.11/dist-packages/sklearn/metrics/_classification.py:1565: UndefinedMetricWarning: Precision is ill-defined and being set to 0.0 in labels with no predicted samples. Use `zero_division` parameter to control this behavior.\n",
            "  _warn_prf(average, modifier, f\"{metric.capitalize()} is\", len(result))\n",
            "/usr/local/lib/python3.11/dist-packages/sklearn/metrics/_classification.py:1565: UndefinedMetricWarning: Precision is ill-defined and being set to 0.0 in labels with no predicted samples. Use `zero_division` parameter to control this behavior.\n",
            "  _warn_prf(average, modifier, f\"{metric.capitalize()} is\", len(result))\n"
          ]
        }
      ]
    },
    {
      "cell_type": "code",
      "source": [
        "from sklearn import metrics\n",
        "from sklearn.linear_model import LogisticRegression\n",
        "\n",
        "texts_test = X_test['title'].tolist()\n",
        "X_test_count = transformer.transform(texts_test)\n",
        "\n",
        "logreg = LogisticRegression()\n",
        "logreg.fit(X_train_count, y_train.values.ravel())\n",
        "\n",
        "y_pred = logreg.predict(X_test_count)\n",
        "print(metrics.classification_report(y_test, y_pred))\n"
      ],
      "metadata": {
        "id": "3fdatqCraraF",
        "colab": {
          "base_uri": "https://localhost:8080/"
        },
        "outputId": "54a1247e-6dd9-49dd-9714-cb76839ef6a4"
      },
      "execution_count": null,
      "outputs": [
        {
          "output_type": "stream",
          "name": "stdout",
          "text": [
            "              precision    recall  f1-score   support\n",
            "\n",
            "       False       0.50      1.00      0.67         1\n",
            "        True       0.00      0.00      0.00         1\n",
            "\n",
            "    accuracy                           0.50         2\n",
            "   macro avg       0.25      0.50      0.33         2\n",
            "weighted avg       0.25      0.50      0.33         2\n",
            "\n"
          ]
        },
        {
          "output_type": "stream",
          "name": "stderr",
          "text": [
            "/usr/local/lib/python3.11/dist-packages/sklearn/metrics/_classification.py:1565: UndefinedMetricWarning: Precision is ill-defined and being set to 0.0 in labels with no predicted samples. Use `zero_division` parameter to control this behavior.\n",
            "  _warn_prf(average, modifier, f\"{metric.capitalize()} is\", len(result))\n",
            "/usr/local/lib/python3.11/dist-packages/sklearn/metrics/_classification.py:1565: UndefinedMetricWarning: Precision is ill-defined and being set to 0.0 in labels with no predicted samples. Use `zero_division` parameter to control this behavior.\n",
            "  _warn_prf(average, modifier, f\"{metric.capitalize()} is\", len(result))\n",
            "/usr/local/lib/python3.11/dist-packages/sklearn/metrics/_classification.py:1565: UndefinedMetricWarning: Precision is ill-defined and being set to 0.0 in labels with no predicted samples. Use `zero_division` parameter to control this behavior.\n",
            "  _warn_prf(average, modifier, f\"{metric.capitalize()} is\", len(result))\n"
          ]
        }
      ]
    },
    {
      "cell_type": "code",
      "source": [
        "from sklearn.feature_extraction.text import CountVectorizer, TfidfTransformer\n",
        "from sklearn.ensemble import RandomForestClassifier\n",
        "from sklearn import metrics\n",
        "\n",
        "transformer = CountVectorizer(token_pattern=r\"(?u)\\b\\w+\\b\")\n",
        "X_train_count = transformer.fit_transform(texts_train)\n",
        "X_test_count = transformer.transform(texts_test)\n",
        "\n",
        "tfidf_trfm = TfidfTransformer(norm=None)\n",
        "X_train_count_tfidf = tfidf_trfm.fit_transform(X_train_count)\n",
        "X_test_count_tfidf = tfidf_trfm.transform(X_test_count)\n",
        "\n",
        "rf = RandomForestClassifier()\n",
        "rf.fit(X_train_count_tfidf, y_train.values.ravel())\n",
        "\n",
        "y_pred = rf.predict(X_test_count_tfidf)\n",
        "\n",
        "print(metrics.classification_report(y_test, y_pred))\n"
      ],
      "metadata": {
        "id": "1oRHKnK4a7JR",
        "colab": {
          "base_uri": "https://localhost:8080/"
        },
        "outputId": "24c5f95e-b974-49be-fa6e-f97564ab9496"
      },
      "execution_count": null,
      "outputs": [
        {
          "output_type": "stream",
          "name": "stdout",
          "text": [
            "              precision    recall  f1-score   support\n",
            "\n",
            "       False       0.50      1.00      0.67         1\n",
            "        True       0.00      0.00      0.00         1\n",
            "\n",
            "    accuracy                           0.50         2\n",
            "   macro avg       0.25      0.50      0.33         2\n",
            "weighted avg       0.25      0.50      0.33         2\n",
            "\n"
          ]
        },
        {
          "output_type": "stream",
          "name": "stderr",
          "text": [
            "/usr/local/lib/python3.11/dist-packages/sklearn/metrics/_classification.py:1565: UndefinedMetricWarning: Precision is ill-defined and being set to 0.0 in labels with no predicted samples. Use `zero_division` parameter to control this behavior.\n",
            "  _warn_prf(average, modifier, f\"{metric.capitalize()} is\", len(result))\n",
            "/usr/local/lib/python3.11/dist-packages/sklearn/metrics/_classification.py:1565: UndefinedMetricWarning: Precision is ill-defined and being set to 0.0 in labels with no predicted samples. Use `zero_division` parameter to control this behavior.\n",
            "  _warn_prf(average, modifier, f\"{metric.capitalize()} is\", len(result))\n",
            "/usr/local/lib/python3.11/dist-packages/sklearn/metrics/_classification.py:1565: UndefinedMetricWarning: Precision is ill-defined and being set to 0.0 in labels with no predicted samples. Use `zero_division` parameter to control this behavior.\n",
            "  _warn_prf(average, modifier, f\"{metric.capitalize()} is\", len(result))\n"
          ]
        }
      ]
    },
    {
      "cell_type": "code",
      "source": [
        "from sklearn.feature_extraction.text import TfidfVectorizer\n",
        "from sklearn.preprocessing import FunctionTransformer\n",
        "from sklearn.pipeline import FeatureUnion, Pipeline\n",
        "\n",
        "transformer = FeatureUnion([\n",
        "                ('question1_tfidf',\n",
        "                  Pipeline([('extract_field',\n",
        "                              FunctionTransformer(lambda x: x['question1'],\n",
        "                                                  validate=False)),\n",
        "                            ('tfidf',\n",
        "                              TfidfVectorizer())])),\n",
        "                ('question2_tfidf',\n",
        "                  Pipeline([('extract_field',\n",
        "                              FunctionTransformer(lambda x: x['question2'],\n",
        "                                                  validate=False)),\n",
        "                            ('tfidf',\n",
        "                              TfidfVectorizer())]))])"
      ],
      "metadata": {
        "id": "Estx_g0FbUpE"
      },
      "execution_count": null,
      "outputs": []
    },
    {
      "cell_type": "code",
      "source": [
        "texts_train = X_train['title'].tolist()\n",
        "texts_test = X_test['title'].tolist()"
      ],
      "metadata": {
        "id": "nw_sgGq6bYjR"
      },
      "execution_count": null,
      "outputs": []
    },
    {
      "cell_type": "code",
      "source": [
        "X_train_tfidf.shape"
      ],
      "metadata": {
        "id": "W2E2VhBObhbK",
        "colab": {
          "base_uri": "https://localhost:8080/"
        },
        "outputId": "5279a25a-a344-459a-f9ac-9cb402b5595a"
      },
      "execution_count": null,
      "outputs": [
        {
          "output_type": "execute_result",
          "data": {
            "text/plain": [
              "(3, 2)"
            ]
          },
          "metadata": {},
          "execution_count": 634
        }
      ]
    },
    {
      "cell_type": "code",
      "source": [
        "def randomforest_classify(X_tr, y_tr, X_test, y_test, description):\n",
        "    ### Helper function to train a random forest classifier and score on test data\n",
        "    m = RandomForestClassifier().fit(X_tr, y_tr)\n",
        "    s = m.score(X_test, y_test)\n",
        "    print ('Test score with', description, 'features:', s)\n",
        "    return m\n",
        "\n",
        "m_bow = randomforest_classify(X_train_count, y_train.values.ravel(), X_test_count, y_test.values.ravel(), 'bow')\n",
        "m_tfidf = randomforest_classify(X_train_tfidf, y_train.values.ravel(), X_test_tfidf, y_test.values.ravel(), 'tf-idf')"
      ],
      "metadata": {
        "id": "i6-_CQlibn7Q",
        "colab": {
          "base_uri": "https://localhost:8080/"
        },
        "outputId": "65f4fc56-2e2e-4f38-8bea-b90a8cd27d81"
      },
      "execution_count": null,
      "outputs": [
        {
          "output_type": "stream",
          "name": "stdout",
          "text": [
            "Test score with bow features: 0.5\n",
            "Test score with tf-idf features: 0.5\n"
          ]
        }
      ]
    },
    {
      "cell_type": "code",
      "source": [
        "y_pred = logreg.predict(X_test_tfidf)\n",
        "print(metrics.classification_report(y_test, y_pred))"
      ],
      "metadata": {
        "id": "EPHNaXqubvVq",
        "colab": {
          "base_uri": "https://localhost:8080/"
        },
        "outputId": "183ee749-0fcb-4d20-890a-47d3120406a8"
      },
      "execution_count": null,
      "outputs": [
        {
          "output_type": "stream",
          "name": "stdout",
          "text": [
            "              precision    recall  f1-score   support\n",
            "\n",
            "       False       0.50      1.00      0.67         1\n",
            "        True       0.00      0.00      0.00         1\n",
            "\n",
            "    accuracy                           0.50         2\n",
            "   macro avg       0.25      0.50      0.33         2\n",
            "weighted avg       0.25      0.50      0.33         2\n",
            "\n"
          ]
        },
        {
          "output_type": "stream",
          "name": "stderr",
          "text": [
            "/usr/local/lib/python3.11/dist-packages/sklearn/metrics/_classification.py:1565: UndefinedMetricWarning: Precision is ill-defined and being set to 0.0 in labels with no predicted samples. Use `zero_division` parameter to control this behavior.\n",
            "  _warn_prf(average, modifier, f\"{metric.capitalize()} is\", len(result))\n",
            "/usr/local/lib/python3.11/dist-packages/sklearn/metrics/_classification.py:1565: UndefinedMetricWarning: Precision is ill-defined and being set to 0.0 in labels with no predicted samples. Use `zero_division` parameter to control this behavior.\n",
            "  _warn_prf(average, modifier, f\"{metric.capitalize()} is\", len(result))\n",
            "/usr/local/lib/python3.11/dist-packages/sklearn/metrics/_classification.py:1565: UndefinedMetricWarning: Precision is ill-defined and being set to 0.0 in labels with no predicted samples. Use `zero_division` parameter to control this behavior.\n",
            "  _warn_prf(average, modifier, f\"{metric.capitalize()} is\", len(result))\n"
          ]
        }
      ]
    }
  ]
}